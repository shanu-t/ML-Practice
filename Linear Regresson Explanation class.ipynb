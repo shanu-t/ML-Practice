{
 "cells": [
  {
   "cell_type": "code",
   "execution_count": 1,
   "id": "93585298-0cef-40a9-89fb-682f5dff2e9e",
   "metadata": {},
   "outputs": [],
   "source": [
    "import numpy as np\n",
    "import matplotlib.pyplot as plt"
   ]
  },
  {
   "cell_type": "code",
   "execution_count": 18,
   "id": "27690fc7-af8c-44ba-8f9d-71f191f85764",
   "metadata": {},
   "outputs": [],
   "source": [
    "X_points = np.random.randint(1,10,20)\n",
    "y_points = np.random.randint(80,120,20)"
   ]
  },
  {
   "cell_type": "code",
   "execution_count": 19,
   "id": "a84f6110-23b8-41b7-a09b-6c68c96f1e68",
   "metadata": {},
   "outputs": [
    {
     "data": {
      "text/plain": [
       "(array([8, 6, 8, 7, 4, 1, 8, 4, 8, 4, 7, 6, 7, 7, 4, 1, 7, 2, 7, 2],\n",
       "       dtype=int32),\n",
       " array([100, 106, 104, 108, 119,  88,  81, 117,  98, 115,  86, 116, 118,\n",
       "        110, 115, 107,  93, 108,  99,  98], dtype=int32))"
      ]
     },
     "execution_count": 19,
     "metadata": {},
     "output_type": "execute_result"
    }
   ],
   "source": [
    "X_points , y_points"
   ]
  },
  {
   "cell_type": "code",
   "execution_count": 20,
   "id": "b5f31d8c-c7be-43a6-8499-078325fe692f",
   "metadata": {},
   "outputs": [
    {
     "data": {
      "image/png": "[encoded data removed]",
      "text/plain": [
       "<Figure size 400x200 with 1 Axes>"
      ]
     },
     "metadata": {},
     "output_type": "display_data"
    }
   ],
   "source": [
    "plt.figure(figsize = (4,2))\n",
    "plt.scatter(X_points,y_points)\n",
    "plt.show()"
   ]
  },
  {
   "cell_type": "code",
   "execution_count": 21,
   "id": "42d4d50b-80cc-4727-b0a7-9c68219b50dc",
   "metadata": {},
   "outputs": [],
   "source": [
    "from scipy import stats\n",
    "\n",
    "slope , intercept , r , p , std_err = stats.linregress(X_points,y_points)\n"
   ]
  },
  {
   "cell_type": "code",
   "execution_count": 22,
   "id": "2c8a1276-7fdc-44bf-90bf-8750f8d2db0f",
   "metadata": {},
   "outputs": [],
   "source": [
    "def myFunc(X):\n",
    "    return slope*X+intercept"
   ]
  },
  {
   "cell_type": "code",
   "execution_count": 23,
   "id": "75f09075-bd4b-41cf-a919-06775be4150d",
   "metadata": {},
   "outputs": [],
   "source": [
    "model = list(map(myFunc,X_points))"
   ]
  },
  {
   "cell_type": "code",
   "execution_count": 24,
   "id": "8a8e77fa-6a55-4aec-85e8-a2b29bf66bfe",
   "metadata": {},
   "outputs": [
    {
     "data": {
      "image/png": "[encoded data removed]",
      "text/plain": [
       "<Figure size 400x200 with 1 Axes>"
      ]
     },
     "metadata": {},
     "output_type": "display_data"
    }
   ],
   "source": [
    "plt.figure(figsize=(4,2))\n",
    "plt.scatter(X_points,y_points)\n",
    "plt.plot(X_points,model)\n",
    "plt.show()"
   ]
  },
  {
   "cell_type": "code",
   "execution_count": 25,
   "id": "e33d2907-a2e1-478e-b726-00581ae6907a",
   "metadata": {},
   "outputs": [
    {
     "data": {
      "text/plain": [
       "np.float64(-0.19111251829965106)"
      ]
     },
     "execution_count": 25,
     "metadata": {},
     "output_type": "execute_result"
    }
   ],
   "source": [
    "r"
   ]
  },
  {
   "cell_type": "code",
   "execution_count": 26,
   "id": "9866b9bf-f44a-45b5-bb5a-4a4c8c8acd50",
   "metadata": {},
   "outputs": [
    {
     "name": "stdout",
     "output_type": "stream",
     "text": [
      "-0.19111251829965106\n"
     ]
    }
   ],
   "source": [
    "print(r)"
   ]
  },
  {
   "cell_type": "code",
   "execution_count": 27,
   "id": "c0a79734-4954-4f41-a696-e9faa91c2b8d",
   "metadata": {},
   "outputs": [
    {
     "name": "stdout",
     "output_type": "stream",
     "text": [
      "106.41489361702128\n"
     ]
    }
   ],
   "source": [
    "print(myFunc(3))"
   ]
  },
  {
   "cell_type": "code",
   "execution_count": null,
   "id": "6f58307e-5090-4d3e-a85d-0c2a112daabd",
   "metadata": {},
   "outputs": [],
   "source": []
  }
 ],
 "metadata": {
  "kernelspec": {
   "display_name": "Python 3 (ipykernel)",
   "language": "python",
   "name": "python3"
  },
  "language_info": {
   "codemirror_mode": {
    "name": "ipython",
    "version": 3
   },
   "file_extension": ".py",
   "mimetype": "text/x-python",
   "name": "python",
   "nbconvert_exporter": "python",
   "pygments_lexer": "ipython3",
   "version": "3.12.4"
  }
 },
 "nbformat": 4,
 "nbformat_minor": 5
}
