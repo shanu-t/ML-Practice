{
 "cells": [
  {
   "cell_type": "code",
   "execution_count": 1,
   "id": "5777a654-d804-457e-82bd-f1dd35316cf0",
   "metadata": {},
   "outputs": [],
   "source": [
    "import pandas as pd"
   ]
  },
  {
   "cell_type": "code",
   "execution_count": 44,
   "id": "9b68a231-1442-4998-9bbd-ae256b7f06b8",
   "metadata": {},
   "outputs": [
    {
     "data": {
      "text/html": [
       "<div>\n",
       "<style scoped>\n",
       "    .dataframe tbody tr th:only-of-type {\n",
       "        vertical-align: middle;\n",
       "    }\n",
       "\n",
       "    .dataframe tbody tr th {\n",
       "        vertical-align: top;\n",
       "    }\n",
       "\n",
       "    .dataframe thead th {\n",
       "        text-align: right;\n",
       "    }\n",
       "</style>\n",
       "<table border=\"1\" class=\"dataframe\">\n",
       "  <thead>\n",
       "    <tr style=\"text-align: right;\">\n",
       "      <th></th>\n",
       "      <th>id</th>\n",
       "      <th>Title</th>\n",
       "      <th>Movie Link</th>\n",
       "      <th>Year</th>\n",
       "      <th>Duration</th>\n",
       "      <th>MPA</th>\n",
       "      <th>Rating</th>\n",
       "      <th>Votes</th>\n",
       "      <th>budget</th>\n",
       "      <th>grossWorldWide</th>\n",
       "      <th>...</th>\n",
       "      <th>writers</th>\n",
       "      <th>stars</th>\n",
       "      <th>genres</th>\n",
       "      <th>countries_origin</th>\n",
       "      <th>filming_locations</th>\n",
       "      <th>production_companies</th>\n",
       "      <th>Languages</th>\n",
       "      <th>wins</th>\n",
       "      <th>nominations</th>\n",
       "      <th>oscars</th>\n",
       "    </tr>\n",
       "  </thead>\n",
       "  <tbody>\n",
       "    <tr>\n",
       "      <th>0</th>\n",
       "      <td>tt0073195</td>\n",
       "      <td>Jaws</td>\n",
       "      <td>https://www.imdb.com/title/tt0073195</td>\n",
       "      <td>1975</td>\n",
       "      <td>2h 4m</td>\n",
       "      <td>PG</td>\n",
       "      <td>8.1</td>\n",
       "      <td>683K</td>\n",
       "      <td>7000000.0</td>\n",
       "      <td>477220580.0</td>\n",
       "      <td>...</td>\n",
       "      <td>['Peter Benchley', 'Carl Gottlieb']</td>\n",
       "      <td>['Roy Scheider', 'Robert Shaw', 'Richard Dreyf...</td>\n",
       "      <td>['Monster Horror', 'Sea Adventure', 'Survival'...</td>\n",
       "      <td>['United States']</td>\n",
       "      <td>[\"Water Street, Edgartown, Martha's Vineyard, ...</td>\n",
       "      <td>['Zanuck/Brown Productions', 'Universal Pictur...</td>\n",
       "      <td>['English']</td>\n",
       "      <td>0</td>\n",
       "      <td>20</td>\n",
       "      <td>0</td>\n",
       "    </tr>\n",
       "    <tr>\n",
       "      <th>1</th>\n",
       "      <td>tt0073629</td>\n",
       "      <td>The Rocky Horror Picture Show</td>\n",
       "      <td>https://www.imdb.com/title/tt0073629</td>\n",
       "      <td>1975</td>\n",
       "      <td>1h 40m</td>\n",
       "      <td>R</td>\n",
       "      <td>7.4</td>\n",
       "      <td>173K</td>\n",
       "      <td>1200000.0</td>\n",
       "      <td>115798478.0</td>\n",
       "      <td>...</td>\n",
       "      <td>[\"Richard O'Brien\", 'Jim Sharman']</td>\n",
       "      <td>['Tim Curry', 'Susan Sarandon', 'Barry Bostwick']</td>\n",
       "      <td>['Dark Comedy', 'Raunchy Comedy', 'Rock Musica...</td>\n",
       "      <td>['United Kingdom', 'United States']</td>\n",
       "      <td>['Oakley Court, Windsor Road, Oakley Green, Wi...</td>\n",
       "      <td>['Twentieth Century Fox', 'Michael White Produ...</td>\n",
       "      <td>['English']</td>\n",
       "      <td>0</td>\n",
       "      <td>4</td>\n",
       "      <td>0</td>\n",
       "    </tr>\n",
       "    <tr>\n",
       "      <th>2</th>\n",
       "      <td>tt0073486</td>\n",
       "      <td>One Flew Over the Cuckoo's Nest</td>\n",
       "      <td>https://www.imdb.com/title/tt0073486</td>\n",
       "      <td>1975</td>\n",
       "      <td>2h 13m</td>\n",
       "      <td>R</td>\n",
       "      <td>8.7</td>\n",
       "      <td>1.1M</td>\n",
       "      <td>3000000.0</td>\n",
       "      <td>109115366.0</td>\n",
       "      <td>...</td>\n",
       "      <td>['Lawrence Hauben', 'Bo Goldman', 'Ken Kesey']</td>\n",
       "      <td>['Jack Nicholson', 'Louise Fletcher', 'Michael...</td>\n",
       "      <td>['Medical Drama', 'Psychological Drama', 'Drama']</td>\n",
       "      <td>['United States']</td>\n",
       "      <td>['Oregon State Mental Hospital - 2600 Center S...</td>\n",
       "      <td>['Fantasy Films', 'N.V. Zvaluw']</td>\n",
       "      <td>['English']</td>\n",
       "      <td>0</td>\n",
       "      <td>15</td>\n",
       "      <td>0</td>\n",
       "    </tr>\n",
       "    <tr>\n",
       "      <th>3</th>\n",
       "      <td>tt0072890</td>\n",
       "      <td>Dog Day Afternoon</td>\n",
       "      <td>https://www.imdb.com/title/tt0072890</td>\n",
       "      <td>1975</td>\n",
       "      <td>2h 5m</td>\n",
       "      <td>R</td>\n",
       "      <td>8.0</td>\n",
       "      <td>279K</td>\n",
       "      <td>1800000.0</td>\n",
       "      <td>50002721.0</td>\n",
       "      <td>...</td>\n",
       "      <td>['Frank Pierson', 'P.F. Kluge', 'Thomas Moore']</td>\n",
       "      <td>['Al Pacino', 'John Cazale', 'Penelope Allen']</td>\n",
       "      <td>['Heist', 'True Crime', 'Biography', 'Crime', ...</td>\n",
       "      <td>['United States']</td>\n",
       "      <td>['285 Prospect Park West, Brooklyn, New York C...</td>\n",
       "      <td>['Warner Bros.', 'Artists Entertainment Complex']</td>\n",
       "      <td>['English']</td>\n",
       "      <td>0</td>\n",
       "      <td>20</td>\n",
       "      <td>0</td>\n",
       "    </tr>\n",
       "    <tr>\n",
       "      <th>4</th>\n",
       "      <td>tt0073692</td>\n",
       "      <td>Shampoo</td>\n",
       "      <td>https://www.imdb.com/title/tt0073692</td>\n",
       "      <td>1975</td>\n",
       "      <td>1h 50m</td>\n",
       "      <td>R</td>\n",
       "      <td>6.4</td>\n",
       "      <td>15K</td>\n",
       "      <td>4000000.0</td>\n",
       "      <td>49407734.0</td>\n",
       "      <td>...</td>\n",
       "      <td>['Robert Towne', 'Warren Beatty']</td>\n",
       "      <td>['Warren Beatty', 'Julie Christie', 'Goldie Ha...</td>\n",
       "      <td>['Satire', 'Comedy', 'Drama']</td>\n",
       "      <td>['United States']</td>\n",
       "      <td>['2270 Bowmont Drive, Beverly Hills, Californi...</td>\n",
       "      <td>['Persky-Bright / Vista', 'Columbia Pictures',...</td>\n",
       "      <td>['English']</td>\n",
       "      <td>0</td>\n",
       "      <td>11</td>\n",
       "      <td>0</td>\n",
       "    </tr>\n",
       "  </tbody>\n",
       "</table>\n",
       "<p>5 rows × 23 columns</p>\n",
       "</div>"
      ],
      "text/plain": [
       "          id                            Title  \\\n",
       "0  tt0073195                             Jaws   \n",
       "1  tt0073629    The Rocky Horror Picture Show   \n",
       "2  tt0073486  One Flew Over the Cuckoo's Nest   \n",
       "3  tt0072890                Dog Day Afternoon   \n",
       "4  tt0073692                          Shampoo   \n",
       "\n",
       "                             Movie Link  Year Duration MPA  Rating Votes  \\\n",
       "0  https://www.imdb.com/title/tt0073195  1975    2h 4m  PG     8.1  683K   \n",
       "1  https://www.imdb.com/title/tt0073629  1975   1h 40m   R     7.4  173K   \n",
       "2  https://www.imdb.com/title/tt0073486  1975   2h 13m   R     8.7  1.1M   \n",
       "3  https://www.imdb.com/title/tt0072890  1975    2h 5m   R     8.0  279K   \n",
       "4  https://www.imdb.com/title/tt0073692  1975   1h 50m   R     6.4   15K   \n",
       "\n",
       "      budget  grossWorldWide  ...  \\\n",
       "0  7000000.0     477220580.0  ...   \n",
       "1  1200000.0     115798478.0  ...   \n",
       "2  3000000.0     109115366.0  ...   \n",
       "3  1800000.0      50002721.0  ...   \n",
       "4  4000000.0      49407734.0  ...   \n",
       "\n",
       "                                           writers  \\\n",
       "0              ['Peter Benchley', 'Carl Gottlieb']   \n",
       "1               [\"Richard O'Brien\", 'Jim Sharman']   \n",
       "2   ['Lawrence Hauben', 'Bo Goldman', 'Ken Kesey']   \n",
       "3  ['Frank Pierson', 'P.F. Kluge', 'Thomas Moore']   \n",
       "4                ['Robert Towne', 'Warren Beatty']   \n",
       "\n",
       "                                               stars  \\\n",
       "0  ['Roy Scheider', 'Robert Shaw', 'Richard Dreyf...   \n",
       "1  ['Tim Curry', 'Susan Sarandon', 'Barry Bostwick']   \n",
       "2  ['Jack Nicholson', 'Louise Fletcher', 'Michael...   \n",
       "3     ['Al Pacino', 'John Cazale', 'Penelope Allen']   \n",
       "4  ['Warren Beatty', 'Julie Christie', 'Goldie Ha...   \n",
       "\n",
       "                                              genres  \\\n",
       "0  ['Monster Horror', 'Sea Adventure', 'Survival'...   \n",
       "1  ['Dark Comedy', 'Raunchy Comedy', 'Rock Musica...   \n",
       "2  ['Medical Drama', 'Psychological Drama', 'Drama']   \n",
       "3  ['Heist', 'True Crime', 'Biography', 'Crime', ...   \n",
       "4                      ['Satire', 'Comedy', 'Drama']   \n",
       "\n",
       "                      countries_origin  \\\n",
       "0                    ['United States']   \n",
       "1  ['United Kingdom', 'United States']   \n",
       "2                    ['United States']   \n",
       "3                    ['United States']   \n",
       "4                    ['United States']   \n",
       "\n",
       "                                   filming_locations  \\\n",
       "0  [\"Water Street, Edgartown, Martha's Vineyard, ...   \n",
       "1  ['Oakley Court, Windsor Road, Oakley Green, Wi...   \n",
       "2  ['Oregon State Mental Hospital - 2600 Center S...   \n",
       "3  ['285 Prospect Park West, Brooklyn, New York C...   \n",
       "4  ['2270 Bowmont Drive, Beverly Hills, Californi...   \n",
       "\n",
       "                                production_companies    Languages wins  \\\n",
       "0  ['Zanuck/Brown Productions', 'Universal Pictur...  ['English']    0   \n",
       "1  ['Twentieth Century Fox', 'Michael White Produ...  ['English']    0   \n",
       "2                   ['Fantasy Films', 'N.V. Zvaluw']  ['English']    0   \n",
       "3  ['Warner Bros.', 'Artists Entertainment Complex']  ['English']    0   \n",
       "4  ['Persky-Bright / Vista', 'Columbia Pictures',...  ['English']    0   \n",
       "\n",
       "  nominations oscars  \n",
       "0          20      0  \n",
       "1           4      0  \n",
       "2          15      0  \n",
       "3          20      0  \n",
       "4          11      0  \n",
       "\n",
       "[5 rows x 23 columns]"
      ]
     },
     "execution_count": 44,
     "metadata": {},
     "output_type": "execute_result"
    }
   ],
   "source": [
    "data = pd.read_csv(r\"C:\\Users\\dell\\Downloads\\final_dataset (1).csv\").ffill()\n",
    "data.head()"
   ]
  },
  {
   "cell_type": "code",
   "execution_count": 45,
   "id": "5951be52-42d4-4643-8e32-c82ae10e0925",
   "metadata": {},
   "outputs": [
    {
     "data": {
      "text/html": [
       "<div>\n",
       "<style scoped>\n",
       "    .dataframe tbody tr th:only-of-type {\n",
       "        vertical-align: middle;\n",
       "    }\n",
       "\n",
       "    .dataframe tbody tr th {\n",
       "        vertical-align: top;\n",
       "    }\n",
       "\n",
       "    .dataframe thead th {\n",
       "        text-align: right;\n",
       "    }\n",
       "</style>\n",
       "<table border=\"1\" class=\"dataframe\">\n",
       "  <thead>\n",
       "    <tr style=\"text-align: right;\">\n",
       "      <th></th>\n",
       "      <th>Year</th>\n",
       "      <th>Rating</th>\n",
       "      <th>budget</th>\n",
       "      <th>grossWorldWide</th>\n",
       "      <th>gross_US_Canada</th>\n",
       "      <th>opening_weekend_Gross</th>\n",
       "      <th>wins</th>\n",
       "      <th>nominations</th>\n",
       "      <th>oscars</th>\n",
       "    </tr>\n",
       "  </thead>\n",
       "  <tbody>\n",
       "    <tr>\n",
       "      <th>count</th>\n",
       "      <td>27847.000000</td>\n",
       "      <td>27847.000000</td>\n",
       "      <td>2.784700e+04</td>\n",
       "      <td>2.784700e+04</td>\n",
       "      <td>2.784700e+04</td>\n",
       "      <td>2.784700e+04</td>\n",
       "      <td>27847.0</td>\n",
       "      <td>27847.000000</td>\n",
       "      <td>27847.000000</td>\n",
       "    </tr>\n",
       "    <tr>\n",
       "      <th>mean</th>\n",
       "      <td>1990.270406</td>\n",
       "      <td>6.098301</td>\n",
       "      <td>2.401052e+08</td>\n",
       "      <td>1.827405e+06</td>\n",
       "      <td>2.950421e+06</td>\n",
       "      <td>3.195032e+05</td>\n",
       "      <td>0.0</td>\n",
       "      <td>2.633426</td>\n",
       "      <td>0.068840</td>\n",
       "    </tr>\n",
       "    <tr>\n",
       "      <th>std</th>\n",
       "      <td>19.126365</td>\n",
       "      <td>1.161520</td>\n",
       "      <td>7.457564e+09</td>\n",
       "      <td>3.659381e+06</td>\n",
       "      <td>7.336793e+06</td>\n",
       "      <td>9.780616e+05</td>\n",
       "      <td>0.0</td>\n",
       "      <td>9.079382</td>\n",
       "      <td>0.384419</td>\n",
       "    </tr>\n",
       "    <tr>\n",
       "      <th>min</th>\n",
       "      <td>1960.000000</td>\n",
       "      <td>1.100000</td>\n",
       "      <td>1.000000e+00</td>\n",
       "      <td>1.000000e+00</td>\n",
       "      <td>6.400000e+01</td>\n",
       "      <td>1.100000e+01</td>\n",
       "      <td>0.0</td>\n",
       "      <td>0.000000</td>\n",
       "      <td>0.000000</td>\n",
       "    </tr>\n",
       "    <tr>\n",
       "      <th>25%</th>\n",
       "      <td>1974.000000</td>\n",
       "      <td>5.400000</td>\n",
       "      <td>4.500000e+05</td>\n",
       "      <td>4.370000e+03</td>\n",
       "      <td>5.452500e+04</td>\n",
       "      <td>3.875000e+03</td>\n",
       "      <td>0.0</td>\n",
       "      <td>0.000000</td>\n",
       "      <td>0.000000</td>\n",
       "    </tr>\n",
       "    <tr>\n",
       "      <th>50%</th>\n",
       "      <td>1989.000000</td>\n",
       "      <td>6.200000</td>\n",
       "      <td>2.000000e+06</td>\n",
       "      <td>8.133500e+04</td>\n",
       "      <td>3.745300e+05</td>\n",
       "      <td>1.120600e+04</td>\n",
       "      <td>0.0</td>\n",
       "      <td>0.000000</td>\n",
       "      <td>0.000000</td>\n",
       "    </tr>\n",
       "    <tr>\n",
       "      <th>75%</th>\n",
       "      <td>2007.000000</td>\n",
       "      <td>7.000000</td>\n",
       "      <td>8.000000e+06</td>\n",
       "      <td>1.528075e+06</td>\n",
       "      <td>2.834000e+06</td>\n",
       "      <td>6.386000e+04</td>\n",
       "      <td>0.0</td>\n",
       "      <td>0.000000</td>\n",
       "      <td>0.000000</td>\n",
       "    </tr>\n",
       "    <tr>\n",
       "      <th>max</th>\n",
       "      <td>2024.000000</td>\n",
       "      <td>9.600000</td>\n",
       "      <td>3.000000e+11</td>\n",
       "      <td>1.797667e+07</td>\n",
       "      <td>1.020000e+08</td>\n",
       "      <td>9.785111e+06</td>\n",
       "      <td>0.0</td>\n",
       "      <td>320.000000</td>\n",
       "      <td>8.000000</td>\n",
       "    </tr>\n",
       "  </tbody>\n",
       "</table>\n",
       "</div>"
      ],
      "text/plain": [
       "               Year        Rating        budget  grossWorldWide  \\\n",
       "count  27847.000000  27847.000000  2.784700e+04    2.784700e+04   \n",
       "mean    1990.270406      6.098301  2.401052e+08    1.827405e+06   \n",
       "std       19.126365      1.161520  7.457564e+09    3.659381e+06   \n",
       "min     1960.000000      1.100000  1.000000e+00    1.000000e+00   \n",
       "25%     1974.000000      5.400000  4.500000e+05    4.370000e+03   \n",
       "50%     1989.000000      6.200000  2.000000e+06    8.133500e+04   \n",
       "75%     2007.000000      7.000000  8.000000e+06    1.528075e+06   \n",
       "max     2024.000000      9.600000  3.000000e+11    1.797667e+07   \n",
       "\n",
       "       gross_US_Canada  opening_weekend_Gross     wins   nominations  \\\n",
       "count     2.784700e+04           2.784700e+04  27847.0  27847.000000   \n",
       "mean      2.950421e+06           3.195032e+05      0.0      2.633426   \n",
       "std       7.336793e+06           9.780616e+05      0.0      9.079382   \n",
       "min       6.400000e+01           1.100000e+01      0.0      0.000000   \n",
       "25%       5.452500e+04           3.875000e+03      0.0      0.000000   \n",
       "50%       3.745300e+05           1.120600e+04      0.0      0.000000   \n",
       "75%       2.834000e+06           6.386000e+04      0.0      0.000000   \n",
       "max       1.020000e+08           9.785111e+06      0.0    320.000000   \n",
       "\n",
       "             oscars  \n",
       "count  27847.000000  \n",
       "mean       0.068840  \n",
       "std        0.384419  \n",
       "min        0.000000  \n",
       "25%        0.000000  \n",
       "50%        0.000000  \n",
       "75%        0.000000  \n",
       "max        8.000000  "
      ]
     },
     "execution_count": 45,
     "metadata": {},
     "output_type": "execute_result"
    }
   ],
   "source": [
    "df.describe()"
   ]
  },
  {
   "cell_type": "code",
   "execution_count": 46,
   "id": "4570e077-0646-4089-a08b-5468ffff4a08",
   "metadata": {},
   "outputs": [
    {
     "data": {
      "text/plain": [
       "id                       0\n",
       "Title                    0\n",
       "Movie Link               0\n",
       "Year                     0\n",
       "Duration                 0\n",
       "MPA                      0\n",
       "Rating                   0\n",
       "Votes                    0\n",
       "budget                   0\n",
       "grossWorldWide           0\n",
       "gross_US_Canada          0\n",
       "opening_weekend_Gross    0\n",
       "directors                0\n",
       "writers                  0\n",
       "stars                    0\n",
       "genres                   0\n",
       "countries_origin         0\n",
       "filming_locations        0\n",
       "production_companies     0\n",
       "Languages                0\n",
       "wins                     0\n",
       "nominations              0\n",
       "oscars                   0\n",
       "dtype: int64"
      ]
     },
     "execution_count": 46,
     "metadata": {},
     "output_type": "execute_result"
    }
   ],
   "source": [
    "df.isnull().sum()"
   ]
  },
  {
   "cell_type": "code",
   "execution_count": 47,
   "id": "4021d125-d67d-4163-b8da-0f50c6ba93f9",
   "metadata": {},
   "outputs": [
    {
     "data": {
      "text/plain": [
       "(np.float64(4370.0),\n",
       " np.float64(1528075.0),\n",
       " np.float64(1523705.0),\n",
       " np.float64(-2281187.5),\n",
       " np.float64(3813632.5))"
      ]
     },
     "execution_count": 47,
     "metadata": {},
     "output_type": "execute_result"
    }
   ],
   "source": [
    "Q1 = df[\"grossWorldWide\"].quantile(0.25)\n",
    "Q3 = df[\"grossWorldWide\"].quantile(0.75)\n",
    "IQR = Q3-Q1\n",
    "min_range = Q1-(1.5*IQR)\n",
    "max_range = Q3+(1.5*IQR)\n",
    "Q1,Q3,IQR,min_range,max_range"
   ]
  },
  {
   "cell_type": "code",
   "execution_count": 48,
   "id": "6fb6830b-d288-487a-a096-678606e09cef",
   "metadata": {},
   "outputs": [
    {
     "data": {
      "text/plain": [
       "(27847, 23)"
      ]
     },
     "execution_count": 48,
     "metadata": {},
     "output_type": "execute_result"
    }
   ],
   "source": [
    "df.shape"
   ]
  },
  {
   "cell_type": "code",
   "execution_count": 49,
   "id": "5031cc80-6794-4171-9895-95495b9fde23",
   "metadata": {},
   "outputs": [
    {
     "data": {
      "text/plain": [
       "(23447, 23)"
      ]
     },
     "execution_count": 49,
     "metadata": {},
     "output_type": "execute_result"
    }
   ],
   "source": [
    "df = df[df[\"grossWorldWide\"]<max_range]\n",
    "df.shape"
   ]
  },
  {
   "cell_type": "code",
   "execution_count": 50,
   "id": "5ced9dd4-46c0-49ae-8eca-99be86563cf6",
   "metadata": {},
   "outputs": [
    {
     "data": {
      "text/plain": [
       "17.12202380952381"
      ]
     },
     "execution_count": 50,
     "metadata": {},
     "output_type": "execute_result"
    }
   ],
   "source": [
    "(33600-27847)/33600*100"
   ]
  },
  {
   "cell_type": "code",
   "execution_count": 51,
   "id": "459e5935-bb2c-4363-b65a-e4468151c9be",
   "metadata": {},
   "outputs": [],
   "source": [
    "import matplotlib.pyplot as plt"
   ]
  },
  {
   "cell_type": "code",
   "execution_count": 52,
   "id": "eaf01d1a-d997-4eb8-bfce-5f6a7dea6a29",
   "metadata": {},
   "outputs": [],
   "source": [
    "import seaborn as sns"
   ]
  },
  {
   "cell_type": "code",
   "execution_count": 53,
   "id": "9ad02f9d-c09f-4b8c-9b34-99cb6d9c1936",
   "metadata": {},
   "outputs": [
    {
     "name": "stderr",
     "output_type": "stream",
     "text": [
      "C:\\Users\\dell\\AppData\\Local\\Temp\\ipykernel_6232\\765524441.py:1: UserWarning: \n",
      "\n",
      "`distplot` is a deprecated function and will be removed in seaborn v0.14.0.\n",
      "\n",
      "Please adapt your code to use either `displot` (a figure-level function with\n",
      "similar flexibility) or `histplot` (an axes-level function for histograms).\n",
      "\n",
      "For a guide to updating your code to use the new functions, please see\n",
      "https://gist.github.com/mwaskom/de44147ed2974457ad6372750bbe5751\n",
      "\n",
      "  sns.distplot(data[\"grossWorldWide\"])\n"
     ]
    },
    {
     "data": {
      "text/plain": [
       "<Axes: xlabel='grossWorldWide', ylabel='Density'>"
      ]
     },
     "execution_count": 53,
     "metadata": {},
     "output_type": "execute_result"
    },
    {
     "data": {
      "image/png": "[encoded data removed]",
      "text/plain": [
       "<Figure size 640x480 with 1 Axes>"
      ]
     },
     "metadata": {},
     "output_type": "display_data"
    }
   ],
   "source": [
    "sns.distplot(data[\"grossWorldWide\"])"
   ]
  },
  {
   "cell_type": "code",
   "execution_count": 55,
   "id": "0e276d18-47a0-44d8-a31b-9711837c2fb9",
   "metadata": {},
   "outputs": [
    {
     "name": "stderr",
     "output_type": "stream",
     "text": [
      "C:\\Users\\dell\\AppData\\Local\\Temp\\ipykernel_6232\\765524441.py:1: UserWarning: \n",
      "\n",
      "`distplot` is a deprecated function and will be removed in seaborn v0.14.0.\n",
      "\n",
      "Please adapt your code to use either `displot` (a figure-level function with\n",
      "similar flexibility) or `histplot` (an axes-level function for histograms).\n",
      "\n",
      "For a guide to updating your code to use the new functions, please see\n",
      "https://gist.github.com/mwaskom/de44147ed2974457ad6372750bbe5751\n",
      "\n",
      "  sns.distplot(data[\"grossWorldWide\"])\n"
     ]
    },
    {
     "data": {
      "text/plain": [
       "<Axes: xlabel='grossWorldWide', ylabel='Density'>"
      ]
     },
     "execution_count": 55,
     "metadata": {},
     "output_type": "execute_result"
    },
    {
     "data": {
      "image/png": "[encoded data removed]",
      "text/plain": [
       "<Figure size 640x480 with 1 Axes>"
      ]
     },
     "metadata": {},
     "output_type": "display_data"
    }
   ],
   "source": [
    "sns.distplot(data[\"grossWorldWide\"])"
   ]
  },
  {
   "cell_type": "code",
   "execution_count": 56,
   "id": "f703156a-5c44-48e4-9ab7-335266a67025",
   "metadata": {},
   "outputs": [],
   "source": [
    "df= data"
   ]
  },
  {
   "cell_type": "code",
   "execution_count": 59,
   "id": "7570f22e-0857-4efb-b2c7-587d5a0d2be6",
   "metadata": {},
   "outputs": [],
   "source": [
    "df['z_score'] = (df[\"grossWorldWide\"] - df[\"grossWorldWide\"].mean())/df[\"grossWorldWide\"].std()"
   ]
  },
  {
   "cell_type": "code",
   "execution_count": 60,
   "id": "cca86935-b732-4cc9-bcf0-0af1dae2f164",
   "metadata": {},
   "outputs": [
    {
     "data": {
      "text/html": [
       "<div>\n",
       "<style scoped>\n",
       "    .dataframe tbody tr th:only-of-type {\n",
       "        vertical-align: middle;\n",
       "    }\n",
       "\n",
       "    .dataframe tbody tr th {\n",
       "        vertical-align: top;\n",
       "    }\n",
       "\n",
       "    .dataframe thead th {\n",
       "        text-align: right;\n",
       "    }\n",
       "</style>\n",
       "<table border=\"1\" class=\"dataframe\">\n",
       "  <thead>\n",
       "    <tr style=\"text-align: right;\">\n",
       "      <th></th>\n",
       "      <th>id</th>\n",
       "      <th>Title</th>\n",
       "      <th>Movie Link</th>\n",
       "      <th>Year</th>\n",
       "      <th>Duration</th>\n",
       "      <th>MPA</th>\n",
       "      <th>Rating</th>\n",
       "      <th>Votes</th>\n",
       "      <th>budget</th>\n",
       "      <th>grossWorldWide</th>\n",
       "      <th>...</th>\n",
       "      <th>stars</th>\n",
       "      <th>genres</th>\n",
       "      <th>countries_origin</th>\n",
       "      <th>filming_locations</th>\n",
       "      <th>production_companies</th>\n",
       "      <th>Languages</th>\n",
       "      <th>wins</th>\n",
       "      <th>nominations</th>\n",
       "      <th>oscars</th>\n",
       "      <th>z_score</th>\n",
       "    </tr>\n",
       "  </thead>\n",
       "  <tbody>\n",
       "    <tr>\n",
       "      <th>0</th>\n",
       "      <td>tt0073195</td>\n",
       "      <td>Jaws</td>\n",
       "      <td>https://www.imdb.com/title/tt0073195</td>\n",
       "      <td>1975</td>\n",
       "      <td>2h 4m</td>\n",
       "      <td>PG</td>\n",
       "      <td>8.1</td>\n",
       "      <td>683K</td>\n",
       "      <td>7000000.0</td>\n",
       "      <td>477220580.0</td>\n",
       "      <td>...</td>\n",
       "      <td>['Roy Scheider', 'Robert Shaw', 'Richard Dreyf...</td>\n",
       "      <td>['Monster Horror', 'Sea Adventure', 'Survival'...</td>\n",
       "      <td>['United States']</td>\n",
       "      <td>[\"Water Street, Edgartown, Martha's Vineyard, ...</td>\n",
       "      <td>['Zanuck/Brown Productions', 'Universal Pictur...</td>\n",
       "      <td>['English']</td>\n",
       "      <td>0</td>\n",
       "      <td>20</td>\n",
       "      <td>0</td>\n",
       "      <td>3.913637</td>\n",
       "    </tr>\n",
       "    <tr>\n",
       "      <th>1</th>\n",
       "      <td>tt0073629</td>\n",
       "      <td>The Rocky Horror Picture Show</td>\n",
       "      <td>https://www.imdb.com/title/tt0073629</td>\n",
       "      <td>1975</td>\n",
       "      <td>1h 40m</td>\n",
       "      <td>R</td>\n",
       "      <td>7.4</td>\n",
       "      <td>173K</td>\n",
       "      <td>1200000.0</td>\n",
       "      <td>115798478.0</td>\n",
       "      <td>...</td>\n",
       "      <td>['Tim Curry', 'Susan Sarandon', 'Barry Bostwick']</td>\n",
       "      <td>['Dark Comedy', 'Raunchy Comedy', 'Rock Musica...</td>\n",
       "      <td>['United Kingdom', 'United States']</td>\n",
       "      <td>['Oakley Court, Windsor Road, Oakley Green, Wi...</td>\n",
       "      <td>['Twentieth Century Fox', 'Michael White Produ...</td>\n",
       "      <td>['English']</td>\n",
       "      <td>0</td>\n",
       "      <td>4</td>\n",
       "      <td>0</td>\n",
       "      <td>0.780059</td>\n",
       "    </tr>\n",
       "    <tr>\n",
       "      <th>2</th>\n",
       "      <td>tt0073486</td>\n",
       "      <td>One Flew Over the Cuckoo's Nest</td>\n",
       "      <td>https://www.imdb.com/title/tt0073486</td>\n",
       "      <td>1975</td>\n",
       "      <td>2h 13m</td>\n",
       "      <td>R</td>\n",
       "      <td>8.7</td>\n",
       "      <td>1.1M</td>\n",
       "      <td>3000000.0</td>\n",
       "      <td>109115366.0</td>\n",
       "      <td>...</td>\n",
       "      <td>['Jack Nicholson', 'Louise Fletcher', 'Michael...</td>\n",
       "      <td>['Medical Drama', 'Psychological Drama', 'Drama']</td>\n",
       "      <td>['United States']</td>\n",
       "      <td>['Oregon State Mental Hospital - 2600 Center S...</td>\n",
       "      <td>['Fantasy Films', 'N.V. Zvaluw']</td>\n",
       "      <td>['English']</td>\n",
       "      <td>0</td>\n",
       "      <td>15</td>\n",
       "      <td>0</td>\n",
       "      <td>0.722115</td>\n",
       "    </tr>\n",
       "    <tr>\n",
       "      <th>3</th>\n",
       "      <td>tt0072890</td>\n",
       "      <td>Dog Day Afternoon</td>\n",
       "      <td>https://www.imdb.com/title/tt0072890</td>\n",
       "      <td>1975</td>\n",
       "      <td>2h 5m</td>\n",
       "      <td>R</td>\n",
       "      <td>8.0</td>\n",
       "      <td>279K</td>\n",
       "      <td>1800000.0</td>\n",
       "      <td>50002721.0</td>\n",
       "      <td>...</td>\n",
       "      <td>['Al Pacino', 'John Cazale', 'Penelope Allen']</td>\n",
       "      <td>['Heist', 'True Crime', 'Biography', 'Crime', ...</td>\n",
       "      <td>['United States']</td>\n",
       "      <td>['285 Prospect Park West, Brooklyn, New York C...</td>\n",
       "      <td>['Warner Bros.', 'Artists Entertainment Complex']</td>\n",
       "      <td>['English']</td>\n",
       "      <td>0</td>\n",
       "      <td>20</td>\n",
       "      <td>0</td>\n",
       "      <td>0.209601</td>\n",
       "    </tr>\n",
       "    <tr>\n",
       "      <th>4</th>\n",
       "      <td>tt0073692</td>\n",
       "      <td>Shampoo</td>\n",
       "      <td>https://www.imdb.com/title/tt0073692</td>\n",
       "      <td>1975</td>\n",
       "      <td>1h 50m</td>\n",
       "      <td>R</td>\n",
       "      <td>6.4</td>\n",
       "      <td>15K</td>\n",
       "      <td>4000000.0</td>\n",
       "      <td>49407734.0</td>\n",
       "      <td>...</td>\n",
       "      <td>['Warren Beatty', 'Julie Christie', 'Goldie Ha...</td>\n",
       "      <td>['Satire', 'Comedy', 'Drama']</td>\n",
       "      <td>['United States']</td>\n",
       "      <td>['2270 Bowmont Drive, Beverly Hills, Californi...</td>\n",
       "      <td>['Persky-Bright / Vista', 'Columbia Pictures',...</td>\n",
       "      <td>['English']</td>\n",
       "      <td>0</td>\n",
       "      <td>11</td>\n",
       "      <td>0</td>\n",
       "      <td>0.204442</td>\n",
       "    </tr>\n",
       "  </tbody>\n",
       "</table>\n",
       "<p>5 rows × 24 columns</p>\n",
       "</div>"
      ],
      "text/plain": [
       "          id                            Title  \\\n",
       "0  tt0073195                             Jaws   \n",
       "1  tt0073629    The Rocky Horror Picture Show   \n",
       "2  tt0073486  One Flew Over the Cuckoo's Nest   \n",
       "3  tt0072890                Dog Day Afternoon   \n",
       "4  tt0073692                          Shampoo   \n",
       "\n",
       "                             Movie Link  Year Duration MPA  Rating Votes  \\\n",
       "0  https://www.imdb.com/title/tt0073195  1975    2h 4m  PG     8.1  683K   \n",
       "1  https://www.imdb.com/title/tt0073629  1975   1h 40m   R     7.4  173K   \n",
       "2  https://www.imdb.com/title/tt0073486  1975   2h 13m   R     8.7  1.1M   \n",
       "3  https://www.imdb.com/title/tt0072890  1975    2h 5m   R     8.0  279K   \n",
       "4  https://www.imdb.com/title/tt0073692  1975   1h 50m   R     6.4   15K   \n",
       "\n",
       "      budget  grossWorldWide  ...  \\\n",
       "0  7000000.0     477220580.0  ...   \n",
       "1  1200000.0     115798478.0  ...   \n",
       "2  3000000.0     109115366.0  ...   \n",
       "3  1800000.0      50002721.0  ...   \n",
       "4  4000000.0      49407734.0  ...   \n",
       "\n",
       "                                               stars  \\\n",
       "0  ['Roy Scheider', 'Robert Shaw', 'Richard Dreyf...   \n",
       "1  ['Tim Curry', 'Susan Sarandon', 'Barry Bostwick']   \n",
       "2  ['Jack Nicholson', 'Louise Fletcher', 'Michael...   \n",
       "3     ['Al Pacino', 'John Cazale', 'Penelope Allen']   \n",
       "4  ['Warren Beatty', 'Julie Christie', 'Goldie Ha...   \n",
       "\n",
       "                                              genres  \\\n",
       "0  ['Monster Horror', 'Sea Adventure', 'Survival'...   \n",
       "1  ['Dark Comedy', 'Raunchy Comedy', 'Rock Musica...   \n",
       "2  ['Medical Drama', 'Psychological Drama', 'Drama']   \n",
       "3  ['Heist', 'True Crime', 'Biography', 'Crime', ...   \n",
       "4                      ['Satire', 'Comedy', 'Drama']   \n",
       "\n",
       "                      countries_origin  \\\n",
       "0                    ['United States']   \n",
       "1  ['United Kingdom', 'United States']   \n",
       "2                    ['United States']   \n",
       "3                    ['United States']   \n",
       "4                    ['United States']   \n",
       "\n",
       "                                   filming_locations  \\\n",
       "0  [\"Water Street, Edgartown, Martha's Vineyard, ...   \n",
       "1  ['Oakley Court, Windsor Road, Oakley Green, Wi...   \n",
       "2  ['Oregon State Mental Hospital - 2600 Center S...   \n",
       "3  ['285 Prospect Park West, Brooklyn, New York C...   \n",
       "4  ['2270 Bowmont Drive, Beverly Hills, Californi...   \n",
       "\n",
       "                                production_companies    Languages wins  \\\n",
       "0  ['Zanuck/Brown Productions', 'Universal Pictur...  ['English']    0   \n",
       "1  ['Twentieth Century Fox', 'Michael White Produ...  ['English']    0   \n",
       "2                   ['Fantasy Films', 'N.V. Zvaluw']  ['English']    0   \n",
       "3  ['Warner Bros.', 'Artists Entertainment Complex']  ['English']    0   \n",
       "4  ['Persky-Bright / Vista', 'Columbia Pictures',...  ['English']    0   \n",
       "\n",
       "  nominations oscars   z_score  \n",
       "0          20      0  3.913637  \n",
       "1           4      0  0.780059  \n",
       "2          15      0  0.722115  \n",
       "3          20      0  0.209601  \n",
       "4          11      0  0.204442  \n",
       "\n",
       "[5 rows x 24 columns]"
      ]
     },
     "execution_count": 60,
     "metadata": {},
     "output_type": "execute_result"
    }
   ],
   "source": [
    "df.head()"
   ]
  },
  {
   "cell_type": "code",
   "execution_count": 61,
   "id": "5a32a2df-9386-44f7-baed-5f4ad3908bc7",
   "metadata": {},
   "outputs": [],
   "source": [
    "df = df[df['z_score']<3]"
   ]
  },
  {
   "cell_type": "code",
   "execution_count": 62,
   "id": "de3e15b2-d2a4-4d37-bdb8-791eb2cede64",
   "metadata": {},
   "outputs": [
    {
     "data": {
      "text/plain": [
       "(33139, 24)"
      ]
     },
     "execution_count": 62,
     "metadata": {},
     "output_type": "execute_result"
    }
   ],
   "source": [
    "df.shape"
   ]
  },
  {
   "cell_type": "code",
   "execution_count": 63,
   "id": "1838df93-9614-45e3-8c6d-589dba4d1314",
   "metadata": {},
   "outputs": [
    {
     "data": {
      "text/plain": [
       "1.3720238095238095"
      ]
     },
     "execution_count": 63,
     "metadata": {},
     "output_type": "execute_result"
    }
   ],
   "source": [
    "(33600-33139)/33600*100"
   ]
  },
  {
   "cell_type": "code",
   "execution_count": 64,
   "id": "a81f6783-ea5d-4034-b208-22606c54e6ae",
   "metadata": {},
   "outputs": [
    {
     "name": "stderr",
     "output_type": "stream",
     "text": [
      "C:\\Users\\dell\\AppData\\Local\\Temp\\ipykernel_6232\\2818690560.py:1: UserWarning: \n",
      "\n",
      "`distplot` is a deprecated function and will be removed in seaborn v0.14.0.\n",
      "\n",
      "Please adapt your code to use either `displot` (a figure-level function with\n",
      "similar flexibility) or `histplot` (an axes-level function for histograms).\n",
      "\n",
      "For a guide to updating your code to use the new functions, please see\n",
      "https://gist.github.com/mwaskom/de44147ed2974457ad6372750bbe5751\n",
      "\n",
      "  sns.distplot(df[\"grossWorldWide\"])\n"
     ]
    },
    {
     "data": {
      "text/plain": [
       "<Axes: xlabel='grossWorldWide', ylabel='Density'>"
      ]
     },
     "execution_count": 64,
     "metadata": {},
     "output_type": "execute_result"
    },
    {
     "data": {
      "image/png": "[encoded data removed]",
      "text/plain": [
       "<Figure size 640x480 with 1 Axes>"
      ]
     },
     "metadata": {},
     "output_type": "display_data"
    }
   ],
   "source": [
    "sns.distplot(df[\"grossWorldWide\"])"
   ]
  },
  {
   "cell_type": "code",
   "execution_count": null,
   "id": "f00168c2-6ca7-4ebf-af0c-7f6dc8448b5a",
   "metadata": {},
   "outputs": [],
   "source": []
  }
 ],
 "metadata": {
  "kernelspec": {
   "display_name": "Python 3 (ipykernel)",
   "language": "python",
   "name": "python3"
  },
  "language_info": {
   "codemirror_mode": {
    "name": "ipython",
    "version": 3
   },
   "file_extension": ".py",
   "mimetype": "text/x-python",
   "name": "python",
   "nbconvert_exporter": "python",
   "pygments_lexer": "ipython3",
   "version": "3.12.4"
  }
 },
 "nbformat": 4,
 "nbformat_minor": 5
}
