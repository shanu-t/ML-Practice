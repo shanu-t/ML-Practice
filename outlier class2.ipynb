{
 "cells": [
  {
   "cell_type": "code",
   "execution_count": 124,
   "id": "3ebadef9-650d-4e2b-b069-6b967dd41882",
   "metadata": {},
   "outputs": [],
   "source": [
    "import pandas as pd\n",
    "import matplotlib.pyplot as plt"
   ]
  },
  {
   "cell_type": "code",
   "execution_count": 125,
   "id": "3cd2691a-eb19-4ebc-83c4-21e5d20678d1",
   "metadata": {},
   "outputs": [],
   "source": [
    "df = pd.read_excel(r\"C:\\Users\\dell\\Downloads\\P6-SuperStoreUS-2015 (1).xlsx\").ffill()"
   ]
  },
  {
   "cell_type": "code",
   "execution_count": 126,
   "id": "581bbc5b-1e5d-4ffc-ada5-b4eeee615486",
   "metadata": {},
   "outputs": [
    {
     "data": {
      "text/html": [
       "<div>\n",
       "<style scoped>\n",
       "    .dataframe tbody tr th:only-of-type {\n",
       "        vertical-align: middle;\n",
       "    }\n",
       "\n",
       "    .dataframe tbody tr th {\n",
       "        vertical-align: top;\n",
       "    }\n",
       "\n",
       "    .dataframe thead th {\n",
       "        text-align: right;\n",
       "    }\n",
       "</style>\n",
       "<table border=\"1\" class=\"dataframe\">\n",
       "  <thead>\n",
       "    <tr style=\"text-align: right;\">\n",
       "      <th></th>\n",
       "      <th>Row ID</th>\n",
       "      <th>Order Priority</th>\n",
       "      <th>Discount</th>\n",
       "      <th>Unit Price</th>\n",
       "      <th>Shipping Cost</th>\n",
       "      <th>NetUnitPrice</th>\n",
       "      <th>Customer ID</th>\n",
       "      <th>Customer Name</th>\n",
       "      <th>Ship Mode</th>\n",
       "      <th>Customer Segment</th>\n",
       "      <th>...</th>\n",
       "      <th>Order Date</th>\n",
       "      <th>Ship Date</th>\n",
       "      <th>Profit</th>\n",
       "      <th>Quantity ordered new</th>\n",
       "      <th>Sales</th>\n",
       "      <th>Order ID</th>\n",
       "      <th>NetAmount</th>\n",
       "      <th>NetProfit</th>\n",
       "      <th>Loss</th>\n",
       "      <th>Profit.1</th>\n",
       "    </tr>\n",
       "  </thead>\n",
       "  <tbody>\n",
       "    <tr>\n",
       "      <th>0</th>\n",
       "      <td>20847</td>\n",
       "      <td>High</td>\n",
       "      <td>0.01</td>\n",
       "      <td>2.84</td>\n",
       "      <td>0.93</td>\n",
       "      <td>3.7416</td>\n",
       "      <td>3</td>\n",
       "      <td>Bonnie Potter</td>\n",
       "      <td>Express Air</td>\n",
       "      <td>Corporate</td>\n",
       "      <td>...</td>\n",
       "      <td>2015-01-07</td>\n",
       "      <td>2015-01-08</td>\n",
       "      <td>4.5600</td>\n",
       "      <td>4</td>\n",
       "      <td>13.01</td>\n",
       "      <td>88522</td>\n",
       "      <td>23.048256</td>\n",
       "      <td>18.2400</td>\n",
       "      <td>0.0000</td>\n",
       "      <td>18.240</td>\n",
       "    </tr>\n",
       "    <tr>\n",
       "      <th>1</th>\n",
       "      <td>20228</td>\n",
       "      <td>Not Specified</td>\n",
       "      <td>0.02</td>\n",
       "      <td>500.98</td>\n",
       "      <td>26.00</td>\n",
       "      <td>516.9604</td>\n",
       "      <td>5</td>\n",
       "      <td>Ronnie Proctor</td>\n",
       "      <td>Delivery Truck</td>\n",
       "      <td>Home Office</td>\n",
       "      <td>...</td>\n",
       "      <td>2015-06-13</td>\n",
       "      <td>2015-06-15</td>\n",
       "      <td>4390.3665</td>\n",
       "      <td>12</td>\n",
       "      <td>6362.85</td>\n",
       "      <td>90193</td>\n",
       "      <td>9925.639680</td>\n",
       "      <td>52684.3980</td>\n",
       "      <td>0.0000</td>\n",
       "      <td>52684.398</td>\n",
       "    </tr>\n",
       "    <tr>\n",
       "      <th>2</th>\n",
       "      <td>21776</td>\n",
       "      <td>Critical</td>\n",
       "      <td>0.06</td>\n",
       "      <td>9.48</td>\n",
       "      <td>7.29</td>\n",
       "      <td>16.2012</td>\n",
       "      <td>11</td>\n",
       "      <td>Marcus Dunlap</td>\n",
       "      <td>Regular Air</td>\n",
       "      <td>Home Office</td>\n",
       "      <td>...</td>\n",
       "      <td>2015-02-15</td>\n",
       "      <td>2015-02-17</td>\n",
       "      <td>-53.8096</td>\n",
       "      <td>22</td>\n",
       "      <td>211.15</td>\n",
       "      <td>90192</td>\n",
       "      <td>516.818280</td>\n",
       "      <td>-1183.8112</td>\n",
       "      <td>-1183.8112</td>\n",
       "      <td>0.000</td>\n",
       "    </tr>\n",
       "    <tr>\n",
       "      <th>3</th>\n",
       "      <td>24844</td>\n",
       "      <td>Medium</td>\n",
       "      <td>0.09</td>\n",
       "      <td>78.69</td>\n",
       "      <td>19.99</td>\n",
       "      <td>91.5979</td>\n",
       "      <td>14</td>\n",
       "      <td>Gwendolyn F Tyson</td>\n",
       "      <td>Regular Air</td>\n",
       "      <td>Small Business</td>\n",
       "      <td>...</td>\n",
       "      <td>2015-05-12</td>\n",
       "      <td>2015-05-14</td>\n",
       "      <td>803.4705</td>\n",
       "      <td>16</td>\n",
       "      <td>1164.45</td>\n",
       "      <td>86838</td>\n",
       "      <td>2095.759952</td>\n",
       "      <td>12855.5280</td>\n",
       "      <td>0.0000</td>\n",
       "      <td>12855.528</td>\n",
       "    </tr>\n",
       "  </tbody>\n",
       "</table>\n",
       "<p>4 rows × 31 columns</p>\n",
       "</div>"
      ],
      "text/plain": [
       "   Row ID Order Priority  Discount  Unit Price  Shipping Cost  NetUnitPrice  \\\n",
       "0   20847           High      0.01        2.84           0.93        3.7416   \n",
       "1   20228  Not Specified      0.02      500.98          26.00      516.9604   \n",
       "2   21776       Critical      0.06        9.48           7.29       16.2012   \n",
       "3   24844         Medium      0.09       78.69          19.99       91.5979   \n",
       "\n",
       "   Customer ID      Customer Name       Ship Mode Customer Segment  ...  \\\n",
       "0            3      Bonnie Potter     Express Air        Corporate  ...   \n",
       "1            5     Ronnie Proctor  Delivery Truck      Home Office  ...   \n",
       "2           11      Marcus Dunlap     Regular Air      Home Office  ...   \n",
       "3           14  Gwendolyn F Tyson     Regular Air   Small Business  ...   \n",
       "\n",
       "  Order Date  Ship Date     Profit Quantity ordered new    Sales  Order ID  \\\n",
       "0 2015-01-07 2015-01-08     4.5600                    4    13.01     88522   \n",
       "1 2015-06-13 2015-06-15  4390.3665                   12  6362.85     90193   \n",
       "2 2015-02-15 2015-02-17   -53.8096                   22   211.15     90192   \n",
       "3 2015-05-12 2015-05-14   803.4705                   16  1164.45     86838   \n",
       "\n",
       "     NetAmount   NetProfit       Loss   Profit.1  \n",
       "0    23.048256     18.2400     0.0000     18.240  \n",
       "1  9925.639680  52684.3980     0.0000  52684.398  \n",
       "2   516.818280  -1183.8112 -1183.8112      0.000  \n",
       "3  2095.759952  12855.5280     0.0000  12855.528  \n",
       "\n",
       "[4 rows x 31 columns]"
      ]
     },
     "execution_count": 126,
     "metadata": {},
     "output_type": "execute_result"
    }
   ],
   "source": [
    "df.head(4)"
   ]
  },
  {
   "cell_type": "code",
   "execution_count": 127,
   "id": "6e74df7b-b2a5-4fae-8764-ffb846ec54a1",
   "metadata": {},
   "outputs": [],
   "source": [
    "df2 = df"
   ]
  },
  {
   "cell_type": "code",
   "execution_count": 128,
   "id": "63dc4e2d-bc10-4a3b-a819-b2660b606735",
   "metadata": {},
   "outputs": [
    {
     "data": {
      "text/plain": [
       "(1952, 31)"
      ]
     },
     "execution_count": 128,
     "metadata": {},
     "output_type": "execute_result"
    }
   ],
   "source": [
    "df.shape"
   ]
  },
  {
   "cell_type": "code",
   "execution_count": 129,
   "id": "cd200fcd-1d66-459f-b3b5-e88d09b8fbfc",
   "metadata": {},
   "outputs": [],
   "source": [
    "import seaborn as sns"
   ]
  },
  {
   "cell_type": "code",
   "execution_count": 130,
   "id": "58c54c99-47d9-448a-96a9-0508c1e9f5cd",
   "metadata": {},
   "outputs": [
    {
     "name": "stderr",
     "output_type": "stream",
     "text": [
      "C:\\Users\\dell\\AppData\\Local\\Temp\\ipykernel_15408\\2715627328.py:1: UserWarning: \n",
      "\n",
      "`distplot` is a deprecated function and will be removed in seaborn v0.14.0.\n",
      "\n",
      "Please adapt your code to use either `displot` (a figure-level function with\n",
      "similar flexibility) or `histplot` (an axes-level function for histograms).\n",
      "\n",
      "For a guide to updating your code to use the new functions, please see\n",
      "https://gist.github.com/mwaskom/de44147ed2974457ad6372750bbe5751\n",
      "\n",
      "  sns.distplot(df[\"Unit Price\"])\n"
     ]
    },
    {
     "data": {
      "image/png": "[encoded data removed]",
      "text/plain": [
       "<Figure size 640x480 with 1 Axes>"
      ]
     },
     "metadata": {},
     "output_type": "display_data"
    }
   ],
   "source": [
    "sns.distplot(df[\"Unit Price\"])\n",
    "plt.show()"
   ]
  },
  {
   "cell_type": "code",
   "execution_count": 131,
   "id": "570ca90e-607f-4ebe-862a-35c33cd1e497",
   "metadata": {},
   "outputs": [
    {
     "data": {
      "text/plain": [
       "(1952, 31)"
      ]
     },
     "execution_count": 131,
     "metadata": {},
     "output_type": "execute_result"
    }
   ],
   "source": [
    "df.shape"
   ]
  },
  {
   "cell_type": "code",
   "execution_count": 132,
   "id": "2ceea9a6-1ea5-4d2a-8891-fb715331590b",
   "metadata": {},
   "outputs": [
    {
     "data": {
      "text/plain": [
       "<Axes: xlabel='Unit Price'>"
      ]
     },
     "execution_count": 132,
     "metadata": {},
     "output_type": "execute_result"
    },
    {
     "data": {
      "image/png": "[encoded data removed]",
      "text/plain": [
       "<Figure size 640x480 with 1 Axes>"
      ]
     },
     "metadata": {},
     "output_type": "display_data"
    }
   ],
   "source": [
    "sns.boxplot(x= \"Unit Price\",data = df)"
   ]
  },
  {
   "cell_type": "code",
   "execution_count": 133,
   "id": "dec3ecf8-1441-424f-9321-f098e13d0b60",
   "metadata": {},
   "outputs": [
    {
     "data": {
      "text/plain": [
       "Row ID                  0\n",
       "Order Priority          0\n",
       "Discount                0\n",
       "Unit Price              0\n",
       "Shipping Cost           0\n",
       "NetUnitPrice            0\n",
       "Customer ID             0\n",
       "Customer Name           0\n",
       "Ship Mode               0\n",
       "Customer Segment        0\n",
       "Product Category        0\n",
       "Product Sub-Category    0\n",
       "Product Container       0\n",
       "Product Name            0\n",
       "Product Base Margin     0\n",
       "SellUnitPrice           0\n",
       "Country                 0\n",
       "Region                  0\n",
       "State or Province       0\n",
       "City                    0\n",
       "Postal Code             0\n",
       "Order Date              0\n",
       "Ship Date               0\n",
       "Profit                  0\n",
       "Quantity ordered new    0\n",
       "Sales                   0\n",
       "Order ID                0\n",
       "NetAmount               0\n",
       "NetProfit               0\n",
       "Loss                    0\n",
       "Profit.1                0\n",
       "dtype: int64"
      ]
     },
     "execution_count": 133,
     "metadata": {},
     "output_type": "execute_result"
    }
   ],
   "source": [
    "df.isnull().sum()"
   ]
  },
  {
   "cell_type": "code",
   "execution_count": 134,
   "id": "3165f909-48c3-4127-a05d-8b2bb6ff01b8",
   "metadata": {},
   "outputs": [
    {
     "data": {
      "text/plain": [
       "(np.float64(-135.255), np.float64(242.70499999999998))"
      ]
     },
     "execution_count": 134,
     "metadata": {},
     "output_type": "execute_result"
    }
   ],
   "source": [
    "Q1 = df[\"Unit Price\"].quantile(0.25)\n",
    "Q3 = df[\"Unit Price\"].quantile(0.75)\n",
    "IQR = Q3-Q1\n",
    "min_range = Q1-(1.5*IQR)\n",
    "max_range = Q3+(1.5*IQR)\n",
    "min_range,max_range"
   ]
  },
  {
   "cell_type": "code",
   "execution_count": 135,
   "id": "ec0d71e5-4975-4204-a2a1-4438d25f1349",
   "metadata": {},
   "outputs": [
    {
     "data": {
      "text/plain": [
       "(1952, 31)"
      ]
     },
     "execution_count": 135,
     "metadata": {},
     "output_type": "execute_result"
    }
   ],
   "source": [
    "df.shape"
   ]
  },
  {
   "cell_type": "code",
   "execution_count": 136,
   "id": "3680e76b-f260-4a8d-b4f6-156220a7bac4",
   "metadata": {},
   "outputs": [],
   "source": [
    "df = df[df[\"Unit Price\"]<max_range]"
   ]
  },
  {
   "cell_type": "code",
   "execution_count": 137,
   "id": "d2a9c910-b629-48e6-9d64-452d623ec6a6",
   "metadata": {},
   "outputs": [
    {
     "data": {
      "text/plain": [
       "(1776, 31)"
      ]
     },
     "execution_count": 137,
     "metadata": {},
     "output_type": "execute_result"
    }
   ],
   "source": [
    "df.shape"
   ]
  },
  {
   "cell_type": "code",
   "execution_count": 138,
   "id": "7270cd6c-3afb-450d-8455-d8db6915e473",
   "metadata": {},
   "outputs": [
    {
     "name": "stderr",
     "output_type": "stream",
     "text": [
      "C:\\Users\\dell\\AppData\\Local\\Temp\\ipykernel_15408\\2715627328.py:1: UserWarning: \n",
      "\n",
      "`distplot` is a deprecated function and will be removed in seaborn v0.14.0.\n",
      "\n",
      "Please adapt your code to use either `displot` (a figure-level function with\n",
      "similar flexibility) or `histplot` (an axes-level function for histograms).\n",
      "\n",
      "For a guide to updating your code to use the new functions, please see\n",
      "https://gist.github.com/mwaskom/de44147ed2974457ad6372750bbe5751\n",
      "\n",
      "  sns.distplot(df[\"Unit Price\"])\n"
     ]
    },
    {
     "data": {
      "image/png": "[encoded data removed]",
      "text/plain": [
       "<Figure size 640x480 with 1 Axes>"
      ]
     },
     "metadata": {},
     "output_type": "display_data"
    }
   ],
   "source": [
    "sns.distplot(df[\"Unit Price\"])\n",
    "plt.show()"
   ]
  },
  {
   "cell_type": "code",
   "execution_count": 139,
   "id": "a8c507e2-a1a2-46a0-b676-9261b46a18a4",
   "metadata": {},
   "outputs": [
    {
     "data": {
      "image/png": "[encoded data removed]",
      "text/plain": [
       "<Figure size 640x480 with 1 Axes>"
      ]
     },
     "metadata": {},
     "output_type": "display_data"
    }
   ],
   "source": [
    "sns.boxplot(x=\"Unit Price\" , data=df)\n",
    "plt.show()"
   ]
  },
  {
   "cell_type": "code",
   "execution_count": 140,
   "id": "95f1ab24-4927-46b0-8842-50516e691780",
   "metadata": {},
   "outputs": [],
   "source": [
    "df2[\"z_score\"]= (df2[\"Unit Price\"] - df2[\"Unit Price\"].mean())/df2[\"Unit Price\"].std()"
   ]
  },
  {
   "cell_type": "code",
   "execution_count": 141,
   "id": "7db517c9-8179-47f5-a109-079303d661c1",
   "metadata": {},
   "outputs": [],
   "source": [
    "df2 = df2[df2[\"z_score\"]<3]"
   ]
  },
  {
   "cell_type": "code",
   "execution_count": 142,
   "id": "8aca04e3-42de-4f6a-a629-4c4cdae55c40",
   "metadata": {},
   "outputs": [
    {
     "data": {
      "text/plain": [
       "(1931, 32)"
      ]
     },
     "execution_count": 142,
     "metadata": {},
     "output_type": "execute_result"
    }
   ],
   "source": [
    "df2.shape"
   ]
  },
  {
   "cell_type": "code",
   "execution_count": 143,
   "id": "5d46d08f-f9ca-4f2a-8883-4ca11d69761b",
   "metadata": {},
   "outputs": [
    {
     "data": {
      "text/html": [
       "<div>\n",
       "<style scoped>\n",
       "    .dataframe tbody tr th:only-of-type {\n",
       "        vertical-align: middle;\n",
       "    }\n",
       "\n",
       "    .dataframe tbody tr th {\n",
       "        vertical-align: top;\n",
       "    }\n",
       "\n",
       "    .dataframe thead th {\n",
       "        text-align: right;\n",
       "    }\n",
       "</style>\n",
       "<table border=\"1\" class=\"dataframe\">\n",
       "  <thead>\n",
       "    <tr style=\"text-align: right;\">\n",
       "      <th></th>\n",
       "      <th>Row ID</th>\n",
       "      <th>Order Priority</th>\n",
       "      <th>Discount</th>\n",
       "      <th>Unit Price</th>\n",
       "      <th>Shipping Cost</th>\n",
       "      <th>NetUnitPrice</th>\n",
       "      <th>Customer ID</th>\n",
       "      <th>Customer Name</th>\n",
       "      <th>Ship Mode</th>\n",
       "      <th>Customer Segment</th>\n",
       "      <th>...</th>\n",
       "      <th>Order Date</th>\n",
       "      <th>Ship Date</th>\n",
       "      <th>Profit</th>\n",
       "      <th>Quantity ordered new</th>\n",
       "      <th>Sales</th>\n",
       "      <th>Order ID</th>\n",
       "      <th>NetAmount</th>\n",
       "      <th>NetProfit</th>\n",
       "      <th>Loss</th>\n",
       "      <th>Profit.1</th>\n",
       "    </tr>\n",
       "  </thead>\n",
       "  <tbody>\n",
       "    <tr>\n",
       "      <th>0</th>\n",
       "      <td>20847</td>\n",
       "      <td>High</td>\n",
       "      <td>0.01</td>\n",
       "      <td>2.84</td>\n",
       "      <td>0.93</td>\n",
       "      <td>3.7416</td>\n",
       "      <td>3</td>\n",
       "      <td>Bonnie Potter</td>\n",
       "      <td>Express Air</td>\n",
       "      <td>Corporate</td>\n",
       "      <td>...</td>\n",
       "      <td>2015-01-07</td>\n",
       "      <td>2015-01-08</td>\n",
       "      <td>4.5600</td>\n",
       "      <td>4</td>\n",
       "      <td>13.01</td>\n",
       "      <td>88522</td>\n",
       "      <td>23.048256</td>\n",
       "      <td>18.2400</td>\n",
       "      <td>0.0000</td>\n",
       "      <td>18.240</td>\n",
       "    </tr>\n",
       "    <tr>\n",
       "      <th>2</th>\n",
       "      <td>21776</td>\n",
       "      <td>Critical</td>\n",
       "      <td>0.06</td>\n",
       "      <td>9.48</td>\n",
       "      <td>7.29</td>\n",
       "      <td>16.2012</td>\n",
       "      <td>11</td>\n",
       "      <td>Marcus Dunlap</td>\n",
       "      <td>Regular Air</td>\n",
       "      <td>Home Office</td>\n",
       "      <td>...</td>\n",
       "      <td>2015-02-15</td>\n",
       "      <td>2015-02-17</td>\n",
       "      <td>-53.8096</td>\n",
       "      <td>22</td>\n",
       "      <td>211.15</td>\n",
       "      <td>90192</td>\n",
       "      <td>516.818280</td>\n",
       "      <td>-1183.8112</td>\n",
       "      <td>-1183.8112</td>\n",
       "      <td>0.000</td>\n",
       "    </tr>\n",
       "    <tr>\n",
       "      <th>3</th>\n",
       "      <td>24844</td>\n",
       "      <td>Medium</td>\n",
       "      <td>0.09</td>\n",
       "      <td>78.69</td>\n",
       "      <td>19.99</td>\n",
       "      <td>91.5979</td>\n",
       "      <td>14</td>\n",
       "      <td>Gwendolyn F Tyson</td>\n",
       "      <td>Regular Air</td>\n",
       "      <td>Small Business</td>\n",
       "      <td>...</td>\n",
       "      <td>2015-05-12</td>\n",
       "      <td>2015-05-14</td>\n",
       "      <td>803.4705</td>\n",
       "      <td>16</td>\n",
       "      <td>1164.45</td>\n",
       "      <td>86838</td>\n",
       "      <td>2095.759952</td>\n",
       "      <td>12855.5280</td>\n",
       "      <td>0.0000</td>\n",
       "      <td>12855.528</td>\n",
       "    </tr>\n",
       "    <tr>\n",
       "      <th>4</th>\n",
       "      <td>24846</td>\n",
       "      <td>Medium</td>\n",
       "      <td>0.08</td>\n",
       "      <td>3.28</td>\n",
       "      <td>2.31</td>\n",
       "      <td>5.3276</td>\n",
       "      <td>14</td>\n",
       "      <td>Gwendolyn F Tyson</td>\n",
       "      <td>Regular Air</td>\n",
       "      <td>Small Business</td>\n",
       "      <td>...</td>\n",
       "      <td>2015-05-12</td>\n",
       "      <td>2015-05-13</td>\n",
       "      <td>-24.0300</td>\n",
       "      <td>7</td>\n",
       "      <td>22.23</td>\n",
       "      <td>86838</td>\n",
       "      <td>58.177392</td>\n",
       "      <td>-168.2100</td>\n",
       "      <td>-168.2100</td>\n",
       "      <td>0.000</td>\n",
       "    </tr>\n",
       "    <tr>\n",
       "      <th>5</th>\n",
       "      <td>24847</td>\n",
       "      <td>Medium</td>\n",
       "      <td>0.05</td>\n",
       "      <td>3.28</td>\n",
       "      <td>4.20</td>\n",
       "      <td>7.3160</td>\n",
       "      <td>14</td>\n",
       "      <td>Gwendolyn F Tyson</td>\n",
       "      <td>Regular Air</td>\n",
       "      <td>Small Business</td>\n",
       "      <td>...</td>\n",
       "      <td>2015-05-12</td>\n",
       "      <td>2015-05-13</td>\n",
       "      <td>-37.0300</td>\n",
       "      <td>4</td>\n",
       "      <td>13.99</td>\n",
       "      <td>86838</td>\n",
       "      <td>45.651840</td>\n",
       "      <td>-148.1200</td>\n",
       "      <td>-148.1200</td>\n",
       "      <td>0.000</td>\n",
       "    </tr>\n",
       "  </tbody>\n",
       "</table>\n",
       "<p>5 rows × 31 columns</p>\n",
       "</div>"
      ],
      "text/plain": [
       "   Row ID Order Priority  Discount  Unit Price  Shipping Cost  NetUnitPrice  \\\n",
       "0   20847           High      0.01        2.84           0.93        3.7416   \n",
       "2   21776       Critical      0.06        9.48           7.29       16.2012   \n",
       "3   24844         Medium      0.09       78.69          19.99       91.5979   \n",
       "4   24846         Medium      0.08        3.28           2.31        5.3276   \n",
       "5   24847         Medium      0.05        3.28           4.20        7.3160   \n",
       "\n",
       "   Customer ID      Customer Name    Ship Mode Customer Segment  ...  \\\n",
       "0            3      Bonnie Potter  Express Air        Corporate  ...   \n",
       "2           11      Marcus Dunlap  Regular Air      Home Office  ...   \n",
       "3           14  Gwendolyn F Tyson  Regular Air   Small Business  ...   \n",
       "4           14  Gwendolyn F Tyson  Regular Air   Small Business  ...   \n",
       "5           14  Gwendolyn F Tyson  Regular Air   Small Business  ...   \n",
       "\n",
       "  Order Date  Ship Date    Profit Quantity ordered new    Sales  Order ID  \\\n",
       "0 2015-01-07 2015-01-08    4.5600                    4    13.01     88522   \n",
       "2 2015-02-15 2015-02-17  -53.8096                   22   211.15     90192   \n",
       "3 2015-05-12 2015-05-14  803.4705                   16  1164.45     86838   \n",
       "4 2015-05-12 2015-05-13  -24.0300                    7    22.23     86838   \n",
       "5 2015-05-12 2015-05-13  -37.0300                    4    13.99     86838   \n",
       "\n",
       "     NetAmount   NetProfit       Loss   Profit.1  \n",
       "0    23.048256     18.2400     0.0000     18.240  \n",
       "2   516.818280  -1183.8112 -1183.8112      0.000  \n",
       "3  2095.759952  12855.5280     0.0000  12855.528  \n",
       "4    58.177392   -168.2100  -168.2100      0.000  \n",
       "5    45.651840   -148.1200  -148.1200      0.000  \n",
       "\n",
       "[5 rows x 31 columns]"
      ]
     },
     "execution_count": 143,
     "metadata": {},
     "output_type": "execute_result"
    }
   ],
   "source": [
    "df.head()"
   ]
  },
  {
   "cell_type": "code",
   "execution_count": null,
   "id": "85d53fd0-0510-438f-b7d3-50426cb05fa5",
   "metadata": {},
   "outputs": [],
   "source": []
  },
  {
   "cell_type": "code",
   "execution_count": null,
   "id": "0738c942-2bb3-4f8f-ab84-7e937352404f",
   "metadata": {},
   "outputs": [],
   "source": []
  },
  {
   "cell_type": "code",
   "execution_count": null,
   "id": "e1c52ded-d120-434d-8ac2-271ba30a6b1a",
   "metadata": {},
   "outputs": [],
   "source": []
  }
 ],
 "metadata": {
  "kernelspec": {
   "display_name": "Python 3 (ipykernel)",
   "language": "python",
   "name": "python3"
  },
  "language_info": {
   "codemirror_mode": {
    "name": "ipython",
    "version": 3
   },
   "file_extension": ".py",
   "mimetype": "text/x-python",
   "name": "python",
   "nbconvert_exporter": "python",
   "pygments_lexer": "ipython3",
   "version": "3.12.4"
  }
 },
 "nbformat": 4,
 "nbformat_minor": 5
}
